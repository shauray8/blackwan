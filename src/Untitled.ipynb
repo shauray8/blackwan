{
 "cells": [
  {
   "cell_type": "code",
   "execution_count": 2,
   "id": "f0a8ff4c-d2d8-4f50-8452-e16b8f716e8f",
   "metadata": {},
   "outputs": [
    {
     "data": {
      "application/vnd.jupyter.widget-view+json": {
       "model_id": "898c194cd1eb44b0a9b62703e9ebf385",
       "version_major": 2,
       "version_minor": 0
      },
      "text/plain": [
       "Loading checkpoint shards:   0%|          | 0/6 [00:00<?, ?it/s]"
      ]
     },
     "metadata": {},
     "output_type": "display_data"
    },
    {
     "data": {
      "application/vnd.jupyter.widget-view+json": {
       "model_id": "8480a5bffd404f27ba31ae404b5296db",
       "version_major": 2,
       "version_minor": 0
      },
      "text/plain": [
       "Loading checkpoint shards:   0%|          | 0/6 [00:00<?, ?it/s]"
      ]
     },
     "metadata": {},
     "output_type": "display_data"
    }
   ],
   "source": [
    "import argparse\n",
    "import logging\n",
    "import os\n",
    "import sys\n",
    "import warnings\n",
    "from datetime import datetime\n",
    "\n",
    "warnings.filterwarnings('ignore')\n",
    "\n",
    "import random\n",
    "\n",
    "import torch\n",
    "import torch.distributed as dist\n",
    "from PIL import Image\n",
    "\n",
    "import wan\n",
    "from wan.configs import MAX_AREA_CONFIGS, SIZE_CONFIGS, SUPPORTED_SIZES, WAN_CONFIGS\n",
    "from wan.distributed.util import init_distributed_group\n",
    "from wan.utils.prompt_extend import DashScopePromptExpander, QwenPromptExpander\n",
    "from wan.utils.utils import merge_video_audio, save_video, str2bool\n",
    "\n",
    "ckpt_dir = \"./Wan2.2-T2V-A14B\"\n",
    "device = 0\n",
    "rank = 0\n",
    "t5_fsdp = False\n",
    "dit_fsdp = False\n",
    "ulysses_size = 1\n",
    "t5_cpu = False\n",
    "convert_model_dtype = True \n",
    "\n",
    "prompt = \"Style: cinematic anime, ultra-detailed hand-drawn shading, volumetric light shafts, ethereal watercolor tones with HDR anime rendering. Genre: dark fantasy, spiritual transcendence, operatic tension. Camera: slow cinematic dolly-in → 3/4 circular pan → close-up orbit; 2.39:1 film aspect, anime-grade depth of field and motion interpolation. Scene Concept: A lone woman sings within colossal ancient ruins beneath a red eclipse — her aria stirs the slumbering energy of gods. The air vibrates with her voice as the world begins to fracture between light and shadow.(0–5s) Wide establishing shot: broken temple, moonlight filtering through floating ash. The woman stands at the center, long dark hair drifting; eyes closed as she begins her melancholic aria. The animation shows subtle breathing, trembling fingers, small light motes pulsing with the rhythm of her song. (5–15s) Camera sweeps closer — magic sigils ignite around her feet, casting reflections in her eyes. Her cloak ripples with a supernatural wind; the aria grows deeper, emotion overwhelming her face. Soft hand-drawn glows and particle trails rise with the music — translucent petals, dust, fragments of light. (Think Makoto Shinkai’s “Your Name” or Violet Evergarden’s lighting, but darker and holier.) (15–25s) Her final note shatters the silence — massive energy blooms upward, light bending like brush strokes. The eclipse flares crimson; camera spins upward as she ascends through luminous debris. Her voice distorts into ethereal harmony; her eyes open — glowing gold tears flow down her cheeks as her body dissolves into divine radiance. Last frame: silhouette against red eclipse, voice echoing into the void.\"\n",
    "size = \"480*832\"\n",
    "frame_num = 81\n",
    "sample_shift = 5.5\n",
    "sample_solver = \"dpm++\"\n",
    "sample_guide_scale = 4.5\n",
    "base_seed = 42\n",
    "offload_model = False\n",
    "\n",
    "save_file = \"base.mp4\"\n",
    "sample_fps = 16\n",
    "\n",
    "wan_t2v = wan.WanT2V(\n",
    "    config = WAN_CONFIGS[\"t2v-A14B\"],\n",
    "    checkpoint_dir=ckpt_dir,\n",
    "    device_id=device,\n",
    "    rank=rank,\n",
    "    t5_fsdp=t5_fsdp,\n",
    "    dit_fsdp=dit_fsdp,\n",
    "    use_sp=(ulysses_size > 1),\n",
    "    t5_cpu=t5_cpu,\n",
    "    convert_model_dtype=convert_model_dtype,\n",
    ")\n"
   ]
  },
  {
   "cell_type": "code",
   "execution_count": 4,
   "id": "8792cb32-c3a4-4be9-8d6c-6b60bd0ad14d",
   "metadata": {},
   "outputs": [
    {
     "name": "stderr",
     "output_type": "stream",
     "text": [
      "100%|██████████| 30/30 [04:07<00:00,  8.24s/it]\n"
     ]
    }
   ],
   "source": [
    "\n",
    "video = wan_t2v.generate(\n",
    "    prompt,\n",
    "    size=SIZE_CONFIGS[size],\n",
    "    frame_num=frame_num,\n",
    "    shift=sample_shift,\n",
    "    sample_solver=sample_solver,\n",
    "    sampling_steps=30,\n",
    "    guide_scale=sample_guide_scale,\n",
    "    seed=base_seed,\n",
    "    offload_model=offload_model\n",
    ")"
   ]
  },
  {
   "cell_type": "code",
   "execution_count": 5,
   "id": "bf429e7d-2a47-424b-b31f-82c6364def1b",
   "metadata": {},
   "outputs": [],
   "source": [
    "\n",
    "save_video(\n",
    "    tensor=video[None],\n",
    "    save_file=save_file,\n",
    "    fps=sample_fps,\n",
    "    nrow=1,\n",
    "    normalize=True,\n",
    "    value_range=(-1, 1)\n",
    ")\n",
    "del video\n",
    "torch.cuda.synchronize()"
   ]
  },
  {
   "cell_type": "code",
   "execution_count": null,
   "id": "19d3267e-b996-4d3c-93e6-c107f6d9aab3",
   "metadata": {},
   "outputs": [],
   "source": []
  }
 ],
 "metadata": {
  "kernelspec": {
   "display_name": "Python 3 (ipykernel)",
   "language": "python",
   "name": "python3"
  },
  "language_info": {
   "codemirror_mode": {
    "name": "ipython",
    "version": 3
   },
   "file_extension": ".py",
   "mimetype": "text/x-python",
   "name": "python",
   "nbconvert_exporter": "python",
   "pygments_lexer": "ipython3",
   "version": "3.12.3"
  }
 },
 "nbformat": 4,
 "nbformat_minor": 5
}
