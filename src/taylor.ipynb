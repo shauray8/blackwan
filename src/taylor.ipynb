{
 "cells": [
  {
   "cell_type": "code",
   "execution_count": 1,
   "id": "47d27f5a-4ff8-4db1-aebd-845afec13039",
   "metadata": {},
   "outputs": [
    {
     "data": {
      "application/vnd.jupyter.widget-view+json": {
       "model_id": "e78690357a01460ca645980e5d4db609",
       "version_major": 2,
       "version_minor": 0
      },
      "text/plain": [
       "Loading checkpoint shards:   0%|          | 0/6 [00:00<?, ?it/s]"
      ]
     },
     "metadata": {},
     "output_type": "display_data"
    },
    {
     "data": {
      "application/vnd.jupyter.widget-view+json": {
       "model_id": "ad761dc843864e578a0e37810efcf60a",
       "version_major": 2,
       "version_minor": 0
      },
      "text/plain": [
       "Loading checkpoint shards:   0%|          | 0/6 [00:00<?, ?it/s]"
      ]
     },
     "metadata": {},
     "output_type": "display_data"
    },
    {
     "name": "stdout",
     "output_type": "stream",
     "text": [
      "Applying TaylorSeer caching...\n",
      "Successfully applied TaylorSeer cache to WanModel.\n",
      "Successfully applied TaylorSeer cache to WanModel.\n",
      "Caching enabled on both models.\n"
     ]
    }
   ],
   "source": [
    "import argparse\n",
    "import logging\n",
    "import os\n",
    "import sys\n",
    "import warnings\n",
    "from datetime import datetime\n",
    "\n",
    "warnings.filterwarnings('ignore')\n",
    "\n",
    "import random\n",
    "\n",
    "import torch\n",
    "import torch.distributed as dist\n",
    "from PIL import Image\n",
    "\n",
    "import wan\n",
    "from wan.configs import MAX_AREA_CONFIGS, SIZE_CONFIGS, SUPPORTED_SIZES, WAN_CONFIGS\n",
    "from wan.distributed.util import init_distributed_group\n",
    "from wan.utils.prompt_extend import DashScopePromptExpander, QwenPromptExpander\n",
    "from wan.utils.utils import merge_video_audio, save_video, str2bool\n",
    "\n",
    "ckpt_dir = \"./Wan2.2-T2V-A14B\"\n",
    "device = 0\n",
    "rank = 0\n",
    "t5_fsdp = False\n",
    "dit_fsdp = False\n",
    "ulysses_size = 1\n",
    "t5_cpu = False\n",
    "convert_model_dtype = True \n",
    "\n",
    "prompt = \"Style: cinematic anime, ultra-detailed hand-drawn shading, volumetric light shafts, ethereal watercolor tones with HDR anime rendering. Genre: dark fantasy, spiritual transcendence, operatic tension. Camera: slow cinematic dolly-in → 3/4 circular pan → close-up orbit; 2.39:1 film aspect, anime-grade depth of field and motion interpolation. Scene Concept: A lone woman sings within colossal ancient ruins beneath a red eclipse — her aria stirs the slumbering energy of gods. The air vibrates with her voice as the world begins to fracture between light and shadow.(0–5s) Wide establishing shot: broken temple, moonlight filtering through floating ash. The woman stands at the center, long dark hair drifting; eyes closed as she begins her melancholic aria. The animation shows subtle breathing, trembling fingers, small light motes pulsing with the rhythm of her song. (5–15s) Camera sweeps closer — magic sigils ignite around her feet, casting reflections in her eyes. Her cloak ripples with a supernatural wind; the aria grows deeper, emotion overwhelming her face. Soft hand-drawn glows and particle trails rise with the music — translucent petals, dust, fragments of light. (Think Makoto Shinkai’s “Your Name” or Violet Evergarden’s lighting, but darker and holier.) (15–25s) Her final note shatters the silence — massive energy blooms upward, light bending like brush strokes. The eclipse flares crimson; camera spins upward as she ascends through luminous debris. Her voice distorts into ethereal harmony; her eyes open — glowing gold tears flow down her cheeks as her body dissolves into divine radiance. Last frame: silhouette against red eclipse, voice echoing into the void.\"\n",
    "size = \"480*832\"\n",
    "frame_num = 81\n",
    "sample_shift = 5.5\n",
    "sample_solver = \"dpm++\"\n",
    "sample_guide_scale = 4.5\n",
    "base_seed = 42\n",
    "offload_model = False\n",
    "\n",
    "save_file = \"base.mp4\"\n",
    "sample_fps = 16\n",
    "\n",
    "wan_t2v = wan.WanT2V(\n",
    "    config = WAN_CONFIGS[\"t2v-A14B\"],\n",
    "    checkpoint_dir=ckpt_dir,\n",
    "    device_id=device,\n",
    "    rank=rank,\n",
    "    t5_fsdp=t5_fsdp,\n",
    "    dit_fsdp=dit_fsdp,\n",
    "    use_sp=(ulysses_size > 1),\n",
    "    t5_cpu=t5_cpu,\n",
    "    convert_model_dtype=convert_model_dtype,\n",
    ")\n"
   ]
  },
  {
   "cell_type": "code",
   "execution_count": 2,
   "id": "ee4df07b-957b-42b9-9924-a40237623b39",
   "metadata": {},
   "outputs": [
    {
     "data": {
      "text/plain": [
       "<wan.text2video.WanT2V at 0x7fd89f7f24e0>"
      ]
     },
     "execution_count": 2,
     "metadata": {},
     "output_type": "execute_result"
    }
   ],
   "source": [
    "wan_t2v"
   ]
  },
  {
   "cell_type": "code",
   "execution_count": 3,
   "id": "a2271d0b-8dbc-4935-aef4-737fc1961708",
   "metadata": {
    "scrolled": true
   },
   "outputs": [
    {
     "name": "stderr",
     "output_type": "stream",
     "text": [
      "  0%|          | 0/30 [00:00<?, ?it/s]"
     ]
    },
    {
     "name": "stdout",
     "output_type": "stream",
     "text": [
      "Step 0: [COND PASS - COMPUTE] ❌ Computing fully based on interval.\n",
      "Step 1: [COND PASS - COMPUTE] ❌ Computing fully based on interval.\n"
     ]
    },
    {
     "name": "stderr",
     "output_type": "stream",
     "text": [
      "  3%|▎         | 1/30 [00:14<07:02, 14.58s/it]"
     ]
    },
    {
     "name": "stdout",
     "output_type": "stream",
     "text": [
      "Step 2: [COND PASS - COMPUTE] ❌ Computing fully based on interval.\n",
      "Step 3: [COND PASS - COMPUTE] ❌ Computing fully based on interval.\n"
     ]
    },
    {
     "name": "stderr",
     "output_type": "stream",
     "text": [
      "  7%|▋         | 2/30 [00:21<04:34,  9.81s/it]"
     ]
    },
    {
     "name": "stdout",
     "output_type": "stream",
     "text": [
      "Step 4: [COND PASS - COMPUTE] ❌ Computing fully based on interval.\n"
     ]
    },
    {
     "name": "stderr",
     "output_type": "stream",
     "text": [
      " 10%|█         | 3/30 [00:25<03:22,  7.49s/it]"
     ]
    },
    {
     "name": "stdout",
     "output_type": "stream",
     "text": [
      "Step 5: [COND PASS - HIT] ✅ Approximating with TaylorSeer.\n",
      "Step 6: [COND PASS - COMPUTE] ❌ Computing fully based on interval.\n"
     ]
    },
    {
     "name": "stderr",
     "output_type": "stream",
     "text": [
      " 13%|█▎        | 4/30 [00:29<02:39,  6.12s/it]"
     ]
    },
    {
     "name": "stdout",
     "output_type": "stream",
     "text": [
      "Step 7: [COND PASS - HIT] ✅ Approximating with TaylorSeer.\n",
      "Step 8: [COND PASS - COMPUTE] ❌ Computing fully based on interval.\n"
     ]
    },
    {
     "name": "stderr",
     "output_type": "stream",
     "text": [
      " 17%|█▋        | 5/30 [00:33<02:14,  5.37s/it]"
     ]
    },
    {
     "name": "stdout",
     "output_type": "stream",
     "text": [
      "Step 9: [COND PASS - HIT] ✅ Approximating with TaylorSeer.\n",
      "Step 10: [COND PASS - COMPUTE] ❌ Computing fully based on interval.\n"
     ]
    },
    {
     "name": "stderr",
     "output_type": "stream",
     "text": [
      " 20%|██        | 6/30 [00:37<01:57,  4.91s/it]"
     ]
    },
    {
     "name": "stdout",
     "output_type": "stream",
     "text": [
      "Step 11: [COND PASS - HIT] ✅ Approximating with TaylorSeer.\n",
      "Step 12: [COND PASS - COMPUTE] ❌ Computing fully based on interval.\n"
     ]
    },
    {
     "name": "stderr",
     "output_type": "stream",
     "text": [
      " 23%|██▎       | 7/30 [00:41<01:46,  4.62s/it]"
     ]
    },
    {
     "name": "stdout",
     "output_type": "stream",
     "text": [
      "Step 13: [COND PASS - HIT] ✅ Approximating with TaylorSeer.\n",
      "Step 14: [COND PASS - COMPUTE] ❌ Computing fully based on interval.\n"
     ]
    },
    {
     "name": "stderr",
     "output_type": "stream",
     "text": [
      " 27%|██▋       | 8/30 [00:45<01:37,  4.44s/it]"
     ]
    },
    {
     "name": "stdout",
     "output_type": "stream",
     "text": [
      "Step 15: [COND PASS - HIT] ✅ Approximating with TaylorSeer.\n",
      "Step 16: [COND PASS - COMPUTE] ❌ Computing fully based on interval.\n"
     ]
    },
    {
     "name": "stderr",
     "output_type": "stream",
     "text": [
      " 30%|███       | 9/30 [00:49<01:30,  4.31s/it]"
     ]
    },
    {
     "name": "stdout",
     "output_type": "stream",
     "text": [
      "Step 17: [COND PASS - HIT] ✅ Approximating with TaylorSeer.\n",
      "Step 18: [COND PASS - COMPUTE] ❌ Computing fully based on interval.\n"
     ]
    },
    {
     "name": "stderr",
     "output_type": "stream",
     "text": [
      " 33%|███▎      | 10/30 [00:53<01:24,  4.22s/it]"
     ]
    },
    {
     "name": "stdout",
     "output_type": "stream",
     "text": [
      "Step 19: [COND PASS - HIT] ✅ Approximating with TaylorSeer.\n",
      "Step 20: [COND PASS - COMPUTE] ❌ Computing fully based on interval.\n"
     ]
    },
    {
     "name": "stderr",
     "output_type": "stream",
     "text": [
      " 37%|███▋      | 11/30 [00:58<01:19,  4.16s/it]"
     ]
    },
    {
     "name": "stdout",
     "output_type": "stream",
     "text": [
      "Step 21: [COND PASS - HIT] ✅ Approximating with TaylorSeer.\n",
      "Step 22: [COND PASS - COMPUTE] ❌ Computing fully based on interval.\n"
     ]
    },
    {
     "name": "stderr",
     "output_type": "stream",
     "text": [
      " 40%|████      | 12/30 [01:02<01:14,  4.12s/it]"
     ]
    },
    {
     "name": "stdout",
     "output_type": "stream",
     "text": [
      "Step 23: [COND PASS - HIT] ✅ Approximating with TaylorSeer.\n",
      "Step 24: [COND PASS - COMPUTE] ❌ Computing fully based on interval.\n"
     ]
    },
    {
     "name": "stderr",
     "output_type": "stream",
     "text": [
      " 43%|████▎     | 13/30 [01:06<01:09,  4.09s/it]"
     ]
    },
    {
     "name": "stdout",
     "output_type": "stream",
     "text": [
      "Step 25: [COND PASS - HIT] ✅ Approximating with TaylorSeer.\n",
      "Step 26: [COND PASS - COMPUTE] ❌ Computing fully based on interval.\n"
     ]
    },
    {
     "name": "stderr",
     "output_type": "stream",
     "text": [
      " 47%|████▋     | 14/30 [01:10<01:05,  4.07s/it]"
     ]
    },
    {
     "name": "stdout",
     "output_type": "stream",
     "text": [
      "Step 27: [COND PASS - HIT] ✅ Approximating with TaylorSeer.\n",
      "--- SWITCHING TO LOW-NOISE MODEL: RESETTING CACHE STATE! ---\n",
      "Step 0: [COND PASS - COMPUTE] ❌ Computing fully based on interval.\n",
      "Step 1: [COND PASS - COMPUTE] ❌ Computing fully based on interval.\n"
     ]
    },
    {
     "name": "stderr",
     "output_type": "stream",
     "text": [
      " 50%|█████     | 15/30 [01:33<02:29,  9.98s/it]"
     ]
    },
    {
     "name": "stdout",
     "output_type": "stream",
     "text": [
      "Step 2: [COND PASS - COMPUTE] ❌ Computing fully based on interval.\n",
      "Step 3: [COND PASS - COMPUTE] ❌ Computing fully based on interval.\n"
     ]
    },
    {
     "name": "stderr",
     "output_type": "stream",
     "text": [
      " 53%|█████▎    | 16/30 [01:41<02:09,  9.23s/it]"
     ]
    },
    {
     "name": "stdout",
     "output_type": "stream",
     "text": [
      "Step 4: [COND PASS - COMPUTE] ❌ Computing fully based on interval.\n"
     ]
    },
    {
     "name": "stderr",
     "output_type": "stream",
     "text": [
      " 57%|█████▋    | 17/30 [01:45<01:42,  7.88s/it]"
     ]
    },
    {
     "name": "stdout",
     "output_type": "stream",
     "text": [
      "Step 5: [COND PASS - HIT] ✅ Approximating with TaylorSeer.\n",
      "Step 6: [COND PASS - COMPUTE] ❌ Computing fully based on interval.\n"
     ]
    },
    {
     "name": "stderr",
     "output_type": "stream",
     "text": [
      " 60%|██████    | 18/30 [01:50<01:20,  6.72s/it]"
     ]
    },
    {
     "name": "stdout",
     "output_type": "stream",
     "text": [
      "Step 7: [COND PASS - HIT] ✅ Approximating with TaylorSeer.\n",
      "Step 8: [COND PASS - COMPUTE] ❌ Computing fully based on interval.\n"
     ]
    },
    {
     "name": "stderr",
     "output_type": "stream",
     "text": [
      " 63%|██████▎   | 19/30 [01:54<01:05,  5.91s/it]"
     ]
    },
    {
     "name": "stdout",
     "output_type": "stream",
     "text": [
      "Step 9: [COND PASS - HIT] ✅ Approximating with TaylorSeer.\n",
      "Step 10: [COND PASS - COMPUTE] ❌ Computing fully based on interval.\n"
     ]
    },
    {
     "name": "stderr",
     "output_type": "stream",
     "text": [
      " 67%|██████▋   | 20/30 [01:58<00:53,  5.35s/it]"
     ]
    },
    {
     "name": "stdout",
     "output_type": "stream",
     "text": [
      "Step 11: [COND PASS - HIT] ✅ Approximating with TaylorSeer.\n",
      "Step 12: [COND PASS - COMPUTE] ❌ Computing fully based on interval.\n"
     ]
    },
    {
     "name": "stderr",
     "output_type": "stream",
     "text": [
      " 70%|███████   | 21/30 [02:02<00:44,  4.95s/it]"
     ]
    },
    {
     "name": "stdout",
     "output_type": "stream",
     "text": [
      "Step 13: [COND PASS - HIT] ✅ Approximating with TaylorSeer.\n",
      "Step 14: [COND PASS - COMPUTE] ❌ Computing fully based on interval.\n"
     ]
    },
    {
     "name": "stderr",
     "output_type": "stream",
     "text": [
      " 73%|███████▎  | 22/30 [02:06<00:37,  4.68s/it]"
     ]
    },
    {
     "name": "stdout",
     "output_type": "stream",
     "text": [
      "Step 15: [COND PASS - HIT] ✅ Approximating with TaylorSeer.\n",
      "Step 16: [COND PASS - COMPUTE] ❌ Computing fully based on interval.\n"
     ]
    },
    {
     "name": "stderr",
     "output_type": "stream",
     "text": [
      " 77%|███████▋  | 23/30 [02:10<00:31,  4.48s/it]"
     ]
    },
    {
     "name": "stdout",
     "output_type": "stream",
     "text": [
      "Step 17: [COND PASS - HIT] ✅ Approximating with TaylorSeer.\n",
      "Step 18: [COND PASS - COMPUTE] ❌ Computing fully based on interval.\n"
     ]
    },
    {
     "name": "stderr",
     "output_type": "stream",
     "text": [
      " 80%|████████  | 24/30 [02:14<00:26,  4.34s/it]"
     ]
    },
    {
     "name": "stdout",
     "output_type": "stream",
     "text": [
      "Step 19: [COND PASS - HIT] ✅ Approximating with TaylorSeer.\n",
      "Step 20: [COND PASS - COMPUTE] ❌ Computing fully based on interval.\n"
     ]
    },
    {
     "name": "stderr",
     "output_type": "stream",
     "text": [
      " 83%|████████▎ | 25/30 [02:18<00:21,  4.25s/it]"
     ]
    },
    {
     "name": "stdout",
     "output_type": "stream",
     "text": [
      "Step 21: [COND PASS - HIT] ✅ Approximating with TaylorSeer.\n",
      "Step 22: [COND PASS - COMPUTE] ❌ Computing fully based on interval.\n"
     ]
    },
    {
     "name": "stderr",
     "output_type": "stream",
     "text": [
      " 87%|████████▋ | 26/30 [02:22<00:16,  4.18s/it]"
     ]
    },
    {
     "name": "stdout",
     "output_type": "stream",
     "text": [
      "Step 23: [COND PASS - HIT] ✅ Approximating with TaylorSeer.\n",
      "Step 24: [COND PASS - COMPUTE] ❌ Computing fully based on interval.\n"
     ]
    },
    {
     "name": "stderr",
     "output_type": "stream",
     "text": [
      " 90%|█████████ | 27/30 [02:26<00:12,  4.13s/it]"
     ]
    },
    {
     "name": "stdout",
     "output_type": "stream",
     "text": [
      "Step 25: [COND PASS - HIT] ✅ Approximating with TaylorSeer.\n",
      "Step 26: [COND PASS - COMPUTE] ❌ Computing fully based on interval.\n"
     ]
    },
    {
     "name": "stderr",
     "output_type": "stream",
     "text": [
      " 93%|█████████▎| 28/30 [02:30<00:08,  4.10s/it]"
     ]
    },
    {
     "name": "stdout",
     "output_type": "stream",
     "text": [
      "Step 27: [COND PASS - HIT] ✅ Approximating with TaylorSeer.\n",
      "Step 28: [COND PASS - COMPUTE] ❌ Computing fully based on interval.\n"
     ]
    },
    {
     "name": "stderr",
     "output_type": "stream",
     "text": [
      " 97%|█████████▋| 29/30 [02:34<00:04,  4.08s/it]"
     ]
    },
    {
     "name": "stdout",
     "output_type": "stream",
     "text": [
      "Step 29: [COND PASS - HIT] ✅ Approximating with TaylorSeer.\n",
      "Step 30: [COND PASS - COMPUTE] ❌ Computing fully based on interval.\n"
     ]
    },
    {
     "name": "stderr",
     "output_type": "stream",
     "text": [
      "100%|██████████| 30/30 [02:38<00:00,  5.28s/it]"
     ]
    },
    {
     "name": "stdout",
     "output_type": "stream",
     "text": [
      "Step 31: [COND PASS - HIT] ✅ Approximating with TaylorSeer.\n"
     ]
    },
    {
     "name": "stderr",
     "output_type": "stream",
     "text": [
      "\n"
     ]
    }
   ],
   "source": [
    "\n",
    "video = wan_t2v.generate(\n",
    "    prompt,\n",
    "    size=SIZE_CONFIGS[size],\n",
    "    frame_num=frame_num,\n",
    "    shift=sample_shift,\n",
    "    sample_solver=sample_solver,\n",
    "    sampling_steps=30,\n",
    "    guide_scale=sample_guide_scale,\n",
    "    seed=base_seed,\n",
    "    offload_model=offload_model,\n",
    "    enable_taylorseer=True,\n",
    "    residual_diff_threshold=0.0,\n",
    "    taylorseer_n_derivatives=3, # Use 2nd order derivatives\n",
    "    taylorseer_warmup_steps=5,  # Do full computation for the first 5 steps\n",
    "    taylorseer_skip_interval=2  # After warmup, compute fully every 3 steps\n",
    ")"
   ]
  },
  {
   "cell_type": "code",
   "execution_count": 4,
   "id": "40c401ee-3355-4d40-8ac6-3ded066ddc27",
   "metadata": {},
   "outputs": [],
   "source": [
    "\n",
    "save_video(\n",
    "    tensor=video[None],\n",
    "    save_file=save_file,\n",
    "    fps=sample_fps,\n",
    "    nrow=1,\n",
    "    normalize=True,\n",
    "    value_range=(-1, 1)\n",
    ")\n",
    "del video\n",
    "torch.cuda.synchronize()"
   ]
  },
  {
   "cell_type": "code",
   "execution_count": null,
   "id": "a91979af-5593-4b7b-b1b9-de34ef13b6ff",
   "metadata": {},
   "outputs": [],
   "source": []
  }
 ],
 "metadata": {
  "kernelspec": {
   "display_name": "Python 3 (ipykernel)",
   "language": "python",
   "name": "python3"
  },
  "language_info": {
   "codemirror_mode": {
    "name": "ipython",
    "version": 3
   },
   "file_extension": ".py",
   "mimetype": "text/x-python",
   "name": "python",
   "nbconvert_exporter": "python",
   "pygments_lexer": "ipython3",
   "version": "3.12.3"
  }
 },
 "nbformat": 4,
 "nbformat_minor": 5
}
